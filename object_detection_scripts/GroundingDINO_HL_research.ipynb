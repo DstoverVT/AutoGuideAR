{
  "cells": [
    {
      "cell_type": "markdown",
      "metadata": {
        "id": "PSbs0qbULMk7"
      },
      "source": [
        "## Before you start\n",
        "\n",
        "Let's make sure that we have access to GPU. We can use `nvidia-smi` command to do that. In case of any problems navigate to `Edit` -> `Notebook settings` -> `Hardware accelerator`, set it to `GPU`, and then click `Save`."
      ]
    },
    {
      "cell_type": "code",
      "execution_count": null,
      "metadata": {
        "id": "o2kSrSPdP9YS"
      },
      "outputs": [],
      "source": [
        "!nvidia-smi"
      ]
    },
    {
      "cell_type": "code",
      "execution_count": null,
      "metadata": {
        "colab": {
          "base_uri": "https://localhost:8080/"
        },
        "id": "pdsIsTKIRxMS",
        "outputId": "e0688ae1-130c-4586-a0d2-c578aed8552b"
      },
      "outputs": [],
      "source": [
        "import os\n",
        "HOME = os.getcwd()\n",
        "print(HOME)"
      ]
    },
    {
      "cell_type": "markdown",
      "metadata": {
        "id": "zkrSv4BjMCce"
      },
      "source": [
        "## Install Grounding DINO 🦕"
      ]
    },
    {
      "cell_type": "code",
      "execution_count": null,
      "metadata": {
        "colab": {
          "base_uri": "https://localhost:8080/"
        },
        "id": "8er1uLGdSQvy",
        "outputId": "c152ee1b-f6f2-444a-a518-9b76c831cd12"
      },
      "outputs": [],
      "source": [
        "%cd {HOME}\n",
        "!git clone https://github.com/IDEA-Research/GroundingDINO.git\n",
        "%cd {HOME}/GroundingDINO\n",
        "%pip install -e ."
      ]
    },
    {
      "cell_type": "code",
      "execution_count": null,
      "metadata": {
        "colab": {
          "base_uri": "https://localhost:8080/"
        },
        "id": "Nkrkkj7CUlkh",
        "outputId": "2e4f1d39-786b-4d72-bad5-a902aade8382"
      },
      "outputs": [],
      "source": [
        "CONFIG_PATH = os.path.join(HOME, \"GroundingDINO/groundingdino/config/GroundingDINO_SwinT_OGC.py\")\n",
        "print(CONFIG_PATH, \"; exist:\", os.path.isfile(CONFIG_PATH))"
      ]
    },
    {
      "cell_type": "markdown",
      "metadata": {
        "id": "w5XwJupYO4L7"
      },
      "source": [
        "## Download Grounding DINO Weights 🏋️"
      ]
    },
    {
      "cell_type": "code",
      "execution_count": null,
      "metadata": {
        "colab": {
          "base_uri": "https://localhost:8080/"
        },
        "id": "wcYHE6buT_L-",
        "outputId": "2be4eeb9-e5f2-4f17-a7fc-f36dc729f6b7"
      },
      "outputs": [],
      "source": [
        "%cd {HOME}\n",
        "!mkdir {HOME}\\weights\n",
        "%cd {HOME}/weights\n",
        "WEIGHTS_FILE = os.path.join(HOME, \"weights\", 'groundingdino_swint_ogc.pth')\n",
        "\n",
        "import urllib.request\n",
        "\n",
        "!wget https://github.com/IDEA-Research/GroundingDINO/releases/download/v0.1.0-alpha/groundingdino_swint_ogc.pth -o groundingdino_swint_ogc.pth\n",
        "\n",
        "urllib.request.urlretrieve('https://github.com/IDEA-Research/GroundingDINO/releases/download/v0.1.0-alpha/groundingdino_swint_ogc.pth', WEIGHTS_FILE)"
      ]
    },
    {
      "cell_type": "code",
      "execution_count": null,
      "metadata": {
        "colab": {
          "base_uri": "https://localhost:8080/"
        },
        "id": "3t97tFbEUS3-",
        "outputId": "35b6f086-4ec9-4a32-d555-7be5097c04cf"
      },
      "outputs": [],
      "source": [
        "WEIGHTS_NAME = \"groundingdino_swint_ogc.pth\"\n",
        "WEIGHTS_PATH = os.path.join(HOME, \"weights\", WEIGHTS_NAME)\n",
        "print(WEIGHTS_PATH, \"; exist:\", os.path.isfile(WEIGHTS_PATH))"
      ]
    },
    {
      "cell_type": "markdown",
      "metadata": {
        "id": "XehYdTlPQkim"
      },
      "source": [
        "## Load Grounding DINO Model"
      ]
    },
    {
      "cell_type": "code",
      "execution_count": null,
      "metadata": {
        "colab": {
          "base_uri": "https://localhost:8080/",
          "height": 514
        },
        "id": "rH62Frfih5lY",
        "outputId": "58309647-a57c-48e0-a300-803458322f3f"
      },
      "outputs": [],
      "source": [
        "%cd {HOME}/GroundingDINO\n",
        "\n",
        "from groundingdino.util.inference import load_model, load_image, predict, annotate\n",
        "model = load_model(CONFIG_PATH, WEIGHTS_PATH)"
      ]
    },
    {
      "cell_type": "markdown",
      "metadata": {
        "id": "Dwhq3RgwQ5Y0"
      },
      "source": [
        "## Object Detection with Grounding DINO"
      ]
    },
    {
      "cell_type": "code",
      "execution_count": null,
      "metadata": {
        "id": "4UNhVJc3OQQl"
      },
      "outputs": [],
      "source": [
        "import supervision as sv\n",
        "import matplotlib.pyplot as plt\n",
        "import torch\n",
        "import cv2\n",
        "import time"
      ]
    },
    {
      "cell_type": "code",
      "execution_count": null,
      "metadata": {},
      "outputs": [],
      "source": [
        "IMAGE_NAME = \"HL_microwave_close.jpg\"\n",
        "IMAGE_PATH = os.path.join(HOME, \"data\", IMAGE_NAME)\n",
        "\n",
        "image_source, image = load_image(IMAGE_PATH)\n",
        "img_h = image_source.shape[0]\n",
        "img_w = image_source.shape[1]"
      ]
    },
    {
      "cell_type": "code",
      "execution_count": null,
      "metadata": {
        "colab": {
          "base_uri": "https://localhost:8080/",
          "height": 577
        },
        "id": "psf2DLyLlXvs",
        "outputId": "dea35869-a552-47fd-8288-d128a605c547"
      },
      "outputs": [],
      "source": [
        "begin = time.time()\n",
        "TEXT_PROMPT = \"button\"\n",
        "BOX_TRESHOLD = 0.2\n",
        "TEXT_TRESHOLD = 0.2\n",
        "\n",
        "# Tensor of found boxes (with confidence above box_threshold)\n",
        "# Tensor of logits for text phrases\n",
        "# List[str] of phrases from prompt found corresponding to boxes (with confidence above text_threshold)\n",
        "boxes, logits, phrases = predict(\n",
        "    model=model,\n",
        "    image=image,\n",
        "    caption=TEXT_PROMPT,\n",
        "    box_threshold=BOX_TRESHOLD,\n",
        "    text_threshold=TEXT_TRESHOLD\n",
        ")\n",
        "\n",
        "annotated_frame = annotate(image_source=image_source, boxes=boxes, logits=logits, phrases=phrases)\n",
        "# print(phrases)\n",
        "\n",
        "# Get box coordinates\n",
        "scale_fct = torch.Tensor([img_w, img_h, img_w, img_h])\n",
        "boxes = boxes * scale_fct\n",
        "\n",
        "if(boxes.numel() == 0):\n",
        "   print('No objects detected.')\n",
        "# Output details for each detection:\n",
        "for result in zip(boxes, logits, phrases):\n",
        "    print(f'{result[2]}: confidence {result[1]}, box {result[0].tolist()}')\n",
        "# print(boxes)\n",
        "# print(logits)\n",
        "# print(phrases)\n",
        "\n",
        "for box in boxes:\n",
        "  # Draw blue circle as center of each box (0, 0) is top-left of image\n",
        "  annotated_frame = cv2.circle(annotated_frame, (int(box[0]), int(box[1])), 10, (255, 0, 0), -1)\n",
        "\n",
        "%matplotlib inline\n",
        "# sv.plot_image(annotated_frame, (16, 16))\n",
        "annotated_frame = cv2.cvtColor(annotated_frame, cv2.COLOR_BGR2RGB)\n",
        "plt.figure(figsize=(16, 16))\n",
        "plt.imshow(annotated_frame)\n",
        "plt.axis('off')\n",
        "plt.show()\n",
        "print(f'{time.time() - begin} sec')\n"
      ]
    }
  ],
  "metadata": {
    "accelerator": "GPU",
    "colab": {
      "gpuType": "T4",
      "provenance": []
    },
    "kernelspec": {
      "display_name": "Python 3",
      "name": "python3"
    },
    "language_info": {
      "codemirror_mode": {
        "name": "ipython",
        "version": 3
      },
      "file_extension": ".py",
      "mimetype": "text/x-python",
      "name": "python",
      "nbconvert_exporter": "python",
      "pygments_lexer": "ipython3",
      "version": "3.9.17"
    }
  },
  "nbformat": 4,
  "nbformat_minor": 0
}

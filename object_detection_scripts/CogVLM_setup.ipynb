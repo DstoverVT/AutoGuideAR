{
 "cells": [
  {
   "cell_type": "code",
   "execution_count": null,
   "metadata": {},
   "outputs": [],
   "source": [
    "!nvidia-smi"
   ]
  },
  {
   "cell_type": "code",
   "execution_count": null,
   "metadata": {},
   "outputs": [],
   "source": [
    "import os\n",
    "HOME = os.getcwd()\n",
    "print(HOME)"
   ]
  },
  {
   "cell_type": "code",
   "execution_count": null,
   "metadata": {},
   "outputs": [],
   "source": [
    "%cd {HOME}/CogVLM\n",
    "# os.environ['DS_BUILD_OPS'] = '0'\n",
    "# Could not install deepspeed dependency - issue on Windows\n",
    "# - commented out SwissArmyTransformer, deepspeed, streamlit, and accelerate\n",
    "# - since they all required deepspeed \n",
    "# - after this, the other libraries installed correctly (took way longer too)\n",
    "%pip install -r requirements.txt"
   ]
  },
  {
   "cell_type": "code",
   "execution_count": null,
   "metadata": {},
   "outputs": [],
   "source": [
    "# Run C:/Users/Danny/miniconda3/envs/library/python.exe basic_demo/cli_demo_hf.py --from_pretrained THUDM/cogvlm-chat-hf --bf16\n",
    "\n",
    "# %pip install sentencepiece\n",
    "# %pip install protobuf\n",
    "# %pip install einops\n",
    "# %pip install accelerate\n",
    "\n",
    "# Tried running cli_demo_hf and it requires 11 GB of GPU RAM for INT4 quantization"
   ]
  }
 ],
 "metadata": {
  "kernelspec": {
   "display_name": "Python 3",
   "language": "python",
   "name": "python3"
  },
  "language_info": {
   "codemirror_mode": {
    "name": "ipython",
    "version": 3
   },
   "file_extension": ".py",
   "mimetype": "text/x-python",
   "name": "python",
   "nbconvert_exporter": "python",
   "pygments_lexer": "ipython3",
   "version": "3.9.17"
  }
 },
 "nbformat": 4,
 "nbformat_minor": 2
}
